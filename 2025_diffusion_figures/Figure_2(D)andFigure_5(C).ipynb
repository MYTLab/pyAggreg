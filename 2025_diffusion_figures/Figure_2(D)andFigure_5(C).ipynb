{
 "cells": [
  {
   "cell_type": "code",
   "execution_count": 1,
   "id": "a9f4cc00",
   "metadata": {},
   "outputs": [],
   "source": [
    "import os\n",
    "import numpy as np\n",
    "import mdtraj as md\n",
    "import matplotlib.pyplot as plt"
   ]
  },
  {
   "cell_type": "code",
   "execution_count": 2,
   "id": "2628a53f",
   "metadata": {},
   "outputs": [],
   "source": [
    "# set overall data path1\n",
    "datapath1 = \"/work2/hulk/work/jeff/openawsem_test/Fragment_mem_refine/fibril_monomer/CF_tool/run/CF_61ch_M_FM_all_1000/\"\n",
    "trj_file1 = [os.path.join(datapath1, f'CF_61ch_M_FM_all_1000_0{i}/run_03/movie.dcd') for i in range(0, 5)]\n",
    "pdb_file1 = os.path.join(datapath1, 'CF_61ch_M_FM_all_1000_00/run_00/native.pdb')"
   ]
  },
  {
   "cell_type": "code",
   "execution_count": 3,
   "id": "85f66ce0",
   "metadata": {},
   "outputs": [],
   "source": [
    "# set overall data path2\n",
    "datapath2 = \"/work2/hulk/work/jeff/openawsem_test/Fragment_mem_refine/fibril_monomer/CF_tool/run/CF_61ch_M_FM_all_1000_2/\"\n",
    "trj_file2 = [os.path.join(datapath2, f'CF_61ch_M_FM_all_1000_2_0{i}/run_01/movie.dcd') for i in range(0, 5)]\n",
    "pdb_file2 = os.path.join(datapath2, 'CF_61ch_M_FM_all_1000_2_00/run_00/native.pdb')"
   ]
  },
  {
   "cell_type": "code",
   "execution_count": 4,
   "id": "8bb5d4c8",
   "metadata": {},
   "outputs": [],
   "source": [
    "# set overall data path3\n",
    "datapath3 = \"/work2/hulk/work/jeff/openawsem_test/Fragment_mem_refine/fibril_monomer/CF_tool/run/CF_Nter_MF/\"\n",
    "trj_file3 = [os.path.join(datapath3, f'CF_Nter_MF_0{i}/run_01/movie.dcd') for i in range(0, 5)]\n",
    "pdb_file3 = os.path.join(datapath3, 'CF_Nter_MF_00/run_00/native.pdb')"
   ]
  },
  {
   "cell_type": "code",
   "execution_count": 5,
   "id": "ad450a9d",
   "metadata": {},
   "outputs": [],
   "source": [
    "# set overall data path4\n",
    "datapath4 = \"/work2/hulk/work/jeff/openawsem_test/Fragment_mem_refine/fibril_monomer/CF_tool/run/CF_Nter_MF_2/\"\n",
    "trj_file4 = [os.path.join(datapath4, f'CF_Nter_MF_2_0{i}/run_00/movie.dcd') for i in range(0, 5)]\n",
    "pdb_file4 = os.path.join(datapath4, f'CF_Nter_MF_2_00/run_00/native.pdb')"
   ]
  },
  {
   "cell_type": "code",
   "execution_count": 6,
   "id": "5cf55fdf",
   "metadata": {},
   "outputs": [],
   "source": [
    "# Load trajectories of data path1\n",
    "traj_CF_straight_o_00 = md.load(trj_file1[0], top = pdb_file1, stride=1000)\n",
    "traj_CF_straight_o_01 = md.load(trj_file1[1], top = pdb_file1, stride=1000)\n",
    "traj_CF_straight_o_02 = md.load(trj_file1[2], top = pdb_file1, stride=1000)\n",
    "traj_CF_straight_o_03 = md.load(trj_file1[3], top = pdb_file1, stride=1000)\n",
    "traj_CF_straight_o_04 = md.load(trj_file1[4], top = pdb_file1, stride=1000)"
   ]
  },
  {
   "cell_type": "code",
   "execution_count": 7,
   "id": "4d52a6af",
   "metadata": {},
   "outputs": [],
   "source": [
    "# Load trajectories of data path2\n",
    "traj_CF_straight_n_00 = md.load(trj_file2[0], top = pdb_file2, stride=1000)\n",
    "traj_CF_straight_n_01 = md.load(trj_file2[1], top = pdb_file2, stride=1000)\n",
    "traj_CF_straight_n_02 = md.load(trj_file2[2], top = pdb_file2, stride=1000)\n",
    "traj_CF_straight_n_03 = md.load(trj_file2[3], top = pdb_file2, stride=1000)\n",
    "traj_CF_straight_n_04 = md.load(trj_file2[4], top = pdb_file2, stride=1000)"
   ]
  },
  {
   "cell_type": "code",
   "execution_count": 8,
   "id": "b39845e6",
   "metadata": {},
   "outputs": [],
   "source": [
    "# Load trajectories of data path3\n",
    "traj_NF_straight_o_00 = md.load(trj_file3[0], top = pdb_file3, stride=1000)\n",
    "traj_NF_straight_o_01 = md.load(trj_file3[1], top = pdb_file3, stride=1000)\n",
    "traj_NF_straight_o_02 = md.load(trj_file3[2], top = pdb_file3, stride=1000)\n",
    "traj_NF_straight_o_03 = md.load(trj_file3[3], top = pdb_file3, stride=1000)\n",
    "traj_NF_straight_o_04 = md.load(trj_file3[4], top = pdb_file3, stride=1000)"
   ]
  },
  {
   "cell_type": "code",
   "execution_count": 9,
   "id": "1eff3040",
   "metadata": {},
   "outputs": [],
   "source": [
    "# Load trajectories of data path4\n",
    "traj_NF_straight_n_00 = md.load(trj_file4[0], top = pdb_file4, stride=1000)\n",
    "traj_NF_straight_n_01 = md.load(trj_file4[1], top = pdb_file4, stride=1000)\n",
    "traj_NF_straight_n_02 = md.load(trj_file4[2], top = pdb_file4, stride=1000)\n",
    "traj_NF_straight_n_03 = md.load(trj_file4[3], top = pdb_file4, stride=1000)\n",
    "traj_NF_straight_n_04 = md.load(trj_file4[4], top = pdb_file4, stride=1000)"
   ]
  },
  {
   "cell_type": "code",
   "execution_count": 10,
   "id": "9b3f8d88",
   "metadata": {},
   "outputs": [],
   "source": [
    "def calculate_main_axis(traj):\n",
    "        topology = traj.topology\n",
    "        \n",
    "        # Calculate main axis for chains 0 and 60\n",
    "        chain_positions = []\n",
    "        \n",
    "        chain_indice1 = topology.select('chainid 0 and residue 24 to 25 and name CA')\n",
    "        \n",
    "        chain_positions.append(traj.xyz[:, chain_indice1, :])\n",
    "        \n",
    "        chain_indice2 = topology.select('chainid 60 and residue 24 to 25 and name CA')\n",
    "        \n",
    "        chain_positions.append(traj.xyz[:, chain_indice2, :])\n",
    "        \n",
    "        #number_of_chain_positions = len(chain_positions)\n",
    "        \n",
    "        #print(number_of_chain_positions)\n",
    "        #print(chain_positions)\n",
    "        \n",
    "        center1 = np.mean(chain_positions[0], axis=1)\n",
    "        center2 = np.mean(chain_positions[1], axis=1)\n",
    "        \n",
    "        main_axis = center2 - center1\n",
    "        \n",
    "        #print(\"main_axis:\", main_axis)\n",
    "        \n",
    "        #num_main = len(main_axis)\n",
    "        \n",
    "        #print(\"num_main\", num_main)\n",
    "        \n",
    "        norms = np.linalg.norm(main_axis, axis=1)[:, np.newaxis]\n",
    "        normalized_main_axis = main_axis / norms\n",
    "        \n",
    "        return normalized_main_axis"
   ]
  },
  {
   "cell_type": "code",
   "execution_count": 11,
   "id": "e9dd313a",
   "metadata": {},
   "outputs": [],
   "source": [
    "def calculate_z_vector(traj):\n",
    "        topology = traj.topology\n",
    "    \n",
    "        ca_positions = []\n",
    "        \n",
    "        ca_indice1 = topology.select('chainid 61 and residue 8 and name CA')\n",
    "        \n",
    "        ca_positions.append(traj.xyz[:, ca_indice1, :])\n",
    "        \n",
    "        ca_indice2 = topology.select('chainid 61 and residue 13 and name CA')\n",
    "        \n",
    "        ca_positions.append(traj.xyz[:, ca_indice2, :])\n",
    "        \n",
    "        #print(ca_positions)\n",
    "        \n",
    "        z_vector = ca_positions[0] - ca_positions[1]\n",
    "        \n",
    "        #print(\"z_vector:\", z_vector)\n",
    "        \n",
    "        #num_z = len(z_vector)\n",
    "        \n",
    "        #print(\"num_z\", num_z)\n",
    "        \n",
    "        norms = np.linalg.norm(z_vector, axis=2)[:, :, np.newaxis]\n",
    "        normalized_z_vector = z_vector / norms\n",
    "        \n",
    "        return normalized_z_vector"
   ]
  },
  {
   "cell_type": "code",
   "execution_count": 12,
   "id": "c259b3bc",
   "metadata": {},
   "outputs": [],
   "source": [
    "def calculate_p2(traj_file):\n",
    "    main_axis = calculate_main_axis(traj_file)\n",
    "    z_vector = calculate_z_vector(traj_file)\n",
    "    z_vector = z_vector.reshape((z_vector.shape[0], z_vector.shape[2]))\n",
    "    cos_theta = np.sum(main_axis * z_vector, axis=1)\n",
    "    p2 = 0.5 * (3 * cos_theta**2 - 1)\n",
    "    \n",
    "    return p2"
   ]
  },
  {
   "cell_type": "code",
   "execution_count": 13,
   "id": "9184fc07",
   "metadata": {},
   "outputs": [],
   "source": [
    "#Calculate P2 values\n",
    "p2_values_CF_o = [calculate_p2(traj_CF_straight_o_00),\n",
    "                  calculate_p2(traj_CF_straight_o_01),\n",
    "                  calculate_p2(traj_CF_straight_o_02),\n",
    "                  calculate_p2(traj_CF_straight_o_03),\n",
    "                  calculate_p2(traj_CF_straight_o_04),\n",
    "                  calculate_p2(traj_NF_straight_o_04)]\n",
    "\n",
    "p2_values_CF_n = [calculate_p2(traj_CF_straight_n_00),\n",
    "                  calculate_p2(traj_CF_straight_n_01),\n",
    "                  calculate_p2(traj_CF_straight_n_02),\n",
    "                  calculate_p2(traj_CF_straight_n_03),\n",
    "                  calculate_p2(traj_CF_straight_n_04)]\n",
    "\n",
    "p2_values_NF_o = [calculate_p2(traj_NF_straight_o_00), \n",
    "                  calculate_p2(traj_NF_straight_o_01), \n",
    "                  calculate_p2(traj_NF_straight_o_02), \n",
    "                  calculate_p2(traj_NF_straight_o_03)]\n",
    "\n",
    "p2_values_NF_n = [calculate_p2(traj_NF_straight_n_01), \n",
    "                  calculate_p2(traj_NF_straight_n_02),\n",
    "                  calculate_p2(traj_NF_straight_n_04)]"
   ]
  },
  {
   "cell_type": "code",
   "execution_count": 14,
   "id": "eca1d73c",
   "metadata": {},
   "outputs": [
    {
     "name": "stdout",
     "output_type": "stream",
     "text": [
      "0.8006318 0.16519201\n"
     ]
    },
    {
     "data": {
      "image/png": "[encoded data removed]",
      "text/plain": [
       "<Figure size 640x480 with 1 Axes>"
      ]
     },
     "metadata": {},
     "output_type": "display_data"
    }
   ],
   "source": [
    "# Calculate frequency of P2 values\n",
    "p2_values_NF_combined = np.concatenate(p2_values_NF_o + p2_values_NF_n)\n",
    "\n",
    "# Calculate mean and standard deviation for error bars at -0.45 and 0.8\n",
    "#near_neg045 = [i for i, value in enumerate(p2_values_NF_combined) if -0.5 <= value <= -0.3]\n",
    "#values_near_neg045 = [p2_values_NF_combined[i] for i in near_neg045]\n",
    "#mean_neg045 = np.mean(values_near_neg045)\n",
    "#std_neg045 = np.std(values_near_neg045)\n",
    "\n",
    "NF_near_pos08 = [i for i, value in enumerate(p2_values_NF_combined) if 0.3 <= value <= 1.0]\n",
    "NF_values_near_pos08 = [p2_values_NF_combined[i] for i in NF_near_pos08]\n",
    "NF_mean_pos08 = np.mean(NF_values_near_pos08)\n",
    "NF_std_pos08 = np.std(NF_values_near_pos08)\n",
    "\n",
    "print(NF_mean_pos08, NF_std_pos08)\n",
    "\n",
    "\n",
    "# Plot histogram of P2 values\n",
    "plt.hist(p2_values_NF_combined, bins=50, alpha=0.8, color='lightblue')\n",
    "\n",
    "\n",
    "# Draw error bars at -0.45 and 0.8\n",
    "#plt.errorbar(-0.45, mean_neg045, xerr=std_neg045, fmt='o', capsize=5, capthick=2, ecolor='lightseagreen', elinewidth=5, label='Perpendicular')\n",
    "plt.errorbar(0.8, NF_mean_pos08, xerr=NF_std_pos08, fmt='bo', capsize=5, capthick=2, ecolor='blue', elinewidth=5, label='Parallel')\n",
    "\n",
    "# Set label and title\n",
    "plt.xlabel('$P_2$', fontsize=20, fontweight='bold')\n",
    "plt.ylabel('Frequency', fontsize=20, fontweight='bold')\n",
    "plt.xlim([-0.55, 1.0])\n",
    "plt.ylim([-0.5, 85])\n",
    "plt.xticks(fontsize=12)\n",
    "plt.yticks(fontsize=12)\n",
    "\n",
    "# Show the plot\n",
    "plt.legend(fontsize=16)\n",
    "plt.show()"
   ]
  },
  {
   "cell_type": "code",
   "execution_count": 15,
   "id": "8e43591a",
   "metadata": {},
   "outputs": [
    {
     "data": {
      "image/png": "[encoded data removed]",
      "text/plain": [
       "<Figure size 640x480 with 1 Axes>"
      ]
     },
     "metadata": {},
     "output_type": "display_data"
    }
   ],
   "source": [
    "# Calculate frequency of P2 values\n",
    "p2_values_CF_combined = np.concatenate(p2_values_CF_o + p2_values_CF_n)\n",
    "\n",
    "# Calculate mean and standard deviation for error bars at -0.45 and 0.8\n",
    "near_neg045 = [i for i, value in enumerate(p2_values_CF_combined) if -0.5 <= value <= -0.3]\n",
    "values_near_neg045 = [p2_values_CF_combined[i] for i in near_neg045]\n",
    "mean_neg045 = np.mean(values_near_neg045)\n",
    "std_neg045 = np.std(values_near_neg045)\n",
    "\n",
    "CF_near_pos08 = [i for i, value in enumerate(p2_values_CF_combined) if 0.6 <= value <= 1.0]\n",
    "CF_values_near_pos08 = [p2_values_CF_combined[i] for i in CF_near_pos08]\n",
    "CF_mean_pos08 = np.mean(CF_values_near_pos08)\n",
    "CF_std_pos08 = np.std(CF_values_near_pos08)\n",
    "\n",
    "\n",
    "# Plot histogram of P2 values\n",
    "plt.hist(p2_values_CF_combined, bins=50, alpha=0.8, color='gray')\n",
    "\n",
    "\n",
    "# Draw error bars at -0.45 and 0.8\n",
    "plt.errorbar(-0.45, mean_neg045, xerr=std_neg045, fmt='o', capsize=5, capthick=2, ecolor='lightseagreen', elinewidth=5, label='Perpendicular')\n",
    "plt.errorbar(0.8, CF_mean_pos08, xerr=CF_std_pos08, fmt='go', capsize=5, capthick=2, ecolor='darkgreen', elinewidth=5, label='Parallel')\n",
    "\n",
    "# Set label and title\n",
    "plt.xlabel('$P_2$', fontsize=20, fontweight='bold')\n",
    "plt.ylabel('Frequency', fontsize=20, fontweight='bold')\n",
    "plt.xlim([-0.55, 1.0])\n",
    "plt.xticks(fontsize=12)\n",
    "plt.yticks(fontsize=12)\n",
    "\n",
    "# Show the plot\n",
    "plt.legend(fontsize=16)\n",
    "plt.show()"
   ]
  },
  {
   "cell_type": "code",
   "execution_count": null,
   "id": "c400115a",
   "metadata": {},
   "outputs": [],
   "source": []
  }
 ],
 "metadata": {
  "kernelspec": {
   "display_name": "Python (mytlab2023)",
   "language": "python",
   "name": "python_mytlab2023"
  },
  "language_info": {
   "codemirror_mode": {
    "name": "ipython",
    "version": 3
   },
   "file_extension": ".py",
   "mimetype": "text/x-python",
   "name": "python",
   "nbconvert_exporter": "python",
   "pygments_lexer": "ipython3",
   "version": "3.10.12"
  }
 },
 "nbformat": 4,
 "nbformat_minor": 5
}
