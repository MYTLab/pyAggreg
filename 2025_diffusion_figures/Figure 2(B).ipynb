{
 "cells": [
  {
   "cell_type": "code",
   "execution_count": 1,
   "id": "c2c1c6b4",
   "metadata": {},
   "outputs": [],
   "source": [
    "%matplotlib inline\n",
    "import matplotlib.pyplot as plt\n",
    "import matplotlib as mpl\n",
    "import numpy as np\n",
    "import pyemma\n",
    "import os\n",
    "from pyemma.util.contexts import settings\n",
    "import seaborn as sns"
   ]
  },
  {
   "cell_type": "code",
   "execution_count": 2,
   "id": "6938b766",
   "metadata": {},
   "outputs": [],
   "source": [
    "# set overall data path\n",
    "datapath1 = \"/work2/hulk/work/jeff/openawsem_test/Fragment_mem_refine/fibril_monomer/CF_tool/run/CF_61ch_M_FM_all_1000/\"\n",
    "trj_file1 = [os.path.join(datapath1, f'CF_61ch_M_FM_all_1000_0{i}/run_03/movie.dcd') for i in range(0, 5)]\n",
    "pdb_file1 = os.path.join(datapath1, f'CF_61ch_M_FM_all_1000_00/run_00/native.pdb')"
   ]
  },
  {
   "cell_type": "code",
   "execution_count": 3,
   "id": "9a8dadf4",
   "metadata": {},
   "outputs": [],
   "source": [
    "# set overall data path\n",
    "datapath2 = \"/work2/hulk/work/jeff/openawsem_test/Fragment_mem_refine/fibril_monomer/CF_tool/run/CF_61ch_M_FM_all_1000_2/\"\n",
    "trj_file2 = [os.path.join(datapath2, f'CF_61ch_M_FM_all_1000_2_0{i}/run_01/movie.dcd') for i in range(0, 5)]\n",
    "pdb_file2 = os.path.join(datapath2, f'CF_61ch_M_FM_all_1000_2_00/run_00/native.pdb')"
   ]
  },
  {
   "cell_type": "code",
   "execution_count": 4,
   "id": "7f7ad34f",
   "metadata": {},
   "outputs": [],
   "source": [
    "# set overall data path\n",
    "datapath3 = \"/work2/hulk/work/jeff/openawsem_test/Fragment_mem_refine/fibril_monomer/CF_tool/run/CF_61ch_M/\"\n",
    "trj_file3 = [os.path.join(datapath3, f'CF_61ch_M_0{i}/run_03/movie.dcd') for i in range(0, 5)]\n",
    "pdb_file3 = os.path.join(datapath3, f'CF_61ch_M_00/run_00/native.pdb')"
   ]
  },
  {
   "cell_type": "code",
   "execution_count": 5,
   "id": "f7e318f6",
   "metadata": {},
   "outputs": [],
   "source": [
    "# set overall data path\n",
    "datapath4 = \"/work2/hulk/work/jeff/openawsem_test/Fragment_mem_refine/fibril_monomer/CF_tool/run/CF_61ch_M_2/\"\n",
    "trj_file4 = [os.path.join(datapath4, f'CF_61ch_M_2_0{i}/run_01/movie.dcd') for i in range(0, 5)]\n",
    "pdb_file4 = os.path.join(datapath4, f'CF_61ch_M_2_00/run_00/native.pdb')"
   ]
  },
  {
   "cell_type": "code",
   "execution_count": 6,
   "id": "a6c26766",
   "metadata": {},
   "outputs": [],
   "source": [
    "featurizer1 = pyemma.coordinates.featurizer(pdb_file1)  #1featurizer可以抓不同的select,可以建2個feat\n",
    "featurizer2 = pyemma.coordinates.featurizer(pdb_file2)  #1featurizer可以抓不同的select,可以建2個feat\n",
    "featurizer3 = pyemma.coordinates.featurizer(pdb_file3)  #1featurizer可以抓不同的select,可以建2個feat\n",
    "featurizer4 = pyemma.coordinates.featurizer(pdb_file4)  #1featurizer可以抓不同的select,可以建2個feat"
   ]
  },
  {
   "cell_type": "code",
   "execution_count": 7,
   "id": "4c67cd65",
   "metadata": {},
   "outputs": [],
   "source": [
    "M = featurizer1.select('chainid 61')\n",
    "chainA = featurizer1.select('chainid 0')"
   ]
  },
  {
   "cell_type": "code",
   "execution_count": 8,
   "id": "8f553af7",
   "metadata": {},
   "outputs": [
    {
     "data": {
      "application/vnd.jupyter.widget-view+json": {
       "model_id": "",
       "version_major": 2,
       "version_minor": 0
      },
      "text/plain": [
       "Obtaining file info:   0%|          | 0/5 [00:00<?, ?it/s]"
      ]
     },
     "metadata": {},
     "output_type": "display_data"
    },
    {
     "data": {
      "application/vnd.jupyter.widget-view+json": {
       "model_id": "",
       "version_major": 2,
       "version_minor": 0
      },
      "text/plain": [
       "getting output of FeatureReader:   0%|          | 0/5 [00:00<?, ?it/s]"
      ]
     },
     "metadata": {},
     "output_type": "display_data"
    }
   ],
   "source": [
    "com_M1 = pyemma.coordinates.featurizer(pdb_file1)\n",
    "com_M1.add_group_COM([M]) \n",
    "com_M_load1 = pyemma.coordinates.load(trj_file1, stride=1000, features=com_M1)"
   ]
  },
  {
   "cell_type": "code",
   "execution_count": 9,
   "id": "7b8af05b",
   "metadata": {},
   "outputs": [
    {
     "data": {
      "application/vnd.jupyter.widget-view+json": {
       "model_id": "",
       "version_major": 2,
       "version_minor": 0
      },
      "text/plain": [
       "Obtaining file info:   0%|          | 0/5 [00:00<?, ?it/s]"
      ]
     },
     "metadata": {},
     "output_type": "display_data"
    },
    {
     "data": {
      "application/vnd.jupyter.widget-view+json": {
       "model_id": "",
       "version_major": 2,
       "version_minor": 0
      },
      "text/plain": [
       "getting output of FeatureReader:   0%|          | 0/5 [00:00<?, ?it/s]"
      ]
     },
     "metadata": {},
     "output_type": "display_data"
    }
   ],
   "source": [
    "com_M2 = pyemma.coordinates.featurizer(pdb_file2)\n",
    "com_M2.add_group_COM([M]) \n",
    "com_M_load2 = pyemma.coordinates.load(trj_file2, stride=1000, features=com_M2)"
   ]
  },
  {
   "cell_type": "code",
   "execution_count": 10,
   "id": "9428ae0d",
   "metadata": {},
   "outputs": [
    {
     "data": {
      "application/vnd.jupyter.widget-view+json": {
       "model_id": "",
       "version_major": 2,
       "version_minor": 0
      },
      "text/plain": [
       "Obtaining file info:   0%|          | 0/5 [00:00<?, ?it/s]"
      ]
     },
     "metadata": {},
     "output_type": "display_data"
    },
    {
     "data": {
      "application/vnd.jupyter.widget-view+json": {
       "model_id": "",
       "version_major": 2,
       "version_minor": 0
      },
      "text/plain": [
       "getting output of FeatureReader:   0%|          | 0/5 [00:00<?, ?it/s]"
      ]
     },
     "metadata": {},
     "output_type": "display_data"
    }
   ],
   "source": [
    "com_M3 = pyemma.coordinates.featurizer(pdb_file3)\n",
    "com_M3.add_group_COM([M]) \n",
    "com_M_load3 = pyemma.coordinates.load(trj_file3, stride=1000, features=com_M3)"
   ]
  },
  {
   "cell_type": "code",
   "execution_count": 11,
   "id": "a33ef971",
   "metadata": {},
   "outputs": [
    {
     "data": {
      "application/vnd.jupyter.widget-view+json": {
       "model_id": "",
       "version_major": 2,
       "version_minor": 0
      },
      "text/plain": [
       "Obtaining file info:   0%|          | 0/5 [00:00<?, ?it/s]"
      ]
     },
     "metadata": {},
     "output_type": "display_data"
    },
    {
     "data": {
      "application/vnd.jupyter.widget-view+json": {
       "model_id": "",
       "version_major": 2,
       "version_minor": 0
      },
      "text/plain": [
       "getting output of FeatureReader:   0%|          | 0/5 [00:00<?, ?it/s]"
      ]
     },
     "metadata": {},
     "output_type": "display_data"
    }
   ],
   "source": [
    "com_M4 = pyemma.coordinates.featurizer(pdb_file4)\n",
    "com_M4.add_group_COM([M]) \n",
    "com_M_load4 = pyemma.coordinates.load(trj_file4, stride=1000, features=com_M4)"
   ]
  },
  {
   "cell_type": "code",
   "execution_count": 12,
   "id": "2a55442d",
   "metadata": {},
   "outputs": [
    {
     "data": {
      "application/vnd.jupyter.widget-view+json": {
       "model_id": "",
       "version_major": 2,
       "version_minor": 0
      },
      "text/plain": [
       "Obtaining file info:   0%|          | 0/5 [00:00<?, ?it/s]"
      ]
     },
     "metadata": {},
     "output_type": "display_data"
    },
    {
     "data": {
      "application/vnd.jupyter.widget-view+json": {
       "model_id": "",
       "version_major": 2,
       "version_minor": 0
      },
      "text/plain": [
       "getting output of FeatureReader:   0%|          | 0/5 [00:00<?, ?it/s]"
      ]
     },
     "metadata": {},
     "output_type": "display_data"
    }
   ],
   "source": [
    "com_f1 = pyemma.coordinates.featurizer(pdb_file1)\n",
    "com_f1.add_group_COM([chainA]) \n",
    "com_f_load1 = pyemma.coordinates.load(trj_file1, stride=1000, features=com_f1)"
   ]
  },
  {
   "cell_type": "code",
   "execution_count": 13,
   "id": "52fca624",
   "metadata": {},
   "outputs": [
    {
     "data": {
      "application/vnd.jupyter.widget-view+json": {
       "model_id": "",
       "version_major": 2,
       "version_minor": 0
      },
      "text/plain": [
       "Obtaining file info:   0%|          | 0/5 [00:00<?, ?it/s]"
      ]
     },
     "metadata": {},
     "output_type": "display_data"
    },
    {
     "data": {
      "application/vnd.jupyter.widget-view+json": {
       "model_id": "",
       "version_major": 2,
       "version_minor": 0
      },
      "text/plain": [
       "getting output of FeatureReader:   0%|          | 0/5 [00:00<?, ?it/s]"
      ]
     },
     "metadata": {},
     "output_type": "display_data"
    }
   ],
   "source": [
    "com_f2 = pyemma.coordinates.featurizer(pdb_file2)\n",
    "com_f2.add_group_COM([chainA]) \n",
    "com_f_load2 = pyemma.coordinates.load(trj_file2, stride=1000, features=com_f2)"
   ]
  },
  {
   "cell_type": "code",
   "execution_count": 14,
   "id": "004e4221",
   "metadata": {},
   "outputs": [
    {
     "data": {
      "application/vnd.jupyter.widget-view+json": {
       "model_id": "",
       "version_major": 2,
       "version_minor": 0
      },
      "text/plain": [
       "Obtaining file info:   0%|          | 0/5 [00:00<?, ?it/s]"
      ]
     },
     "metadata": {},
     "output_type": "display_data"
    },
    {
     "data": {
      "application/vnd.jupyter.widget-view+json": {
       "model_id": "",
       "version_major": 2,
       "version_minor": 0
      },
      "text/plain": [
       "getting output of FeatureReader:   0%|          | 0/5 [00:00<?, ?it/s]"
      ]
     },
     "metadata": {},
     "output_type": "display_data"
    }
   ],
   "source": [
    "com_f3 = pyemma.coordinates.featurizer(pdb_file3)\n",
    "com_f3.add_group_COM([chainA]) \n",
    "com_f_load3 = pyemma.coordinates.load(trj_file3, stride=1000, features=com_f3)"
   ]
  },
  {
   "cell_type": "code",
   "execution_count": 15,
   "id": "6ceefbdb",
   "metadata": {},
   "outputs": [
    {
     "data": {
      "application/vnd.jupyter.widget-view+json": {
       "model_id": "",
       "version_major": 2,
       "version_minor": 0
      },
      "text/plain": [
       "Obtaining file info:   0%|          | 0/5 [00:00<?, ?it/s]"
      ]
     },
     "metadata": {},
     "output_type": "display_data"
    },
    {
     "data": {
      "application/vnd.jupyter.widget-view+json": {
       "model_id": "",
       "version_major": 2,
       "version_minor": 0
      },
      "text/plain": [
       "getting output of FeatureReader:   0%|          | 0/5 [00:00<?, ?it/s]"
      ]
     },
     "metadata": {},
     "output_type": "display_data"
    }
   ],
   "source": [
    "com_f4 = pyemma.coordinates.featurizer(pdb_file4)\n",
    "com_f4.add_group_COM([chainA]) \n",
    "com_f_load4 = pyemma.coordinates.load(trj_file4, stride=1000, features=com_f4)"
   ]
  },
  {
   "cell_type": "code",
   "execution_count": 16,
   "id": "fb0c317e",
   "metadata": {},
   "outputs": [],
   "source": [
    "traj_dis1 = [[],[],[],[],[]]\n",
    "delta_d_R1 = [[],[],[],[],[]]\n",
    "for i in np.arange(len(com_M_load1)):\n",
    "    for j in np.arange(len(com_M_load1[i])):\n",
    "        x_f = com_f_load1[i][j, 0]\n",
    "        y_f = com_f_load1[i][j, 1]\n",
    "        z_f = com_f_load1[i][j, 2]\n",
    "        x_m = com_M_load1[i][j, 0]\n",
    "        y_m = com_M_load1[i][j, 1]\n",
    "        z_m = com_M_load1[i][j, 2]\n",
    "\n",
    "        d1 = (((x_m-x_f)**2)+((y_m-y_f)**2)+((z_m-z_f)**2))**0.5\n",
    "        traj_dis1[i].append(d1)\n",
    "        d = traj_dis1[i][0]\n",
    "        delta_d = d1 - d\n",
    "        delta_d_R1[i].append(delta_d)"
   ]
  },
  {
   "cell_type": "code",
   "execution_count": 17,
   "id": "5c4d660c",
   "metadata": {},
   "outputs": [],
   "source": [
    "traj_dis2 = [[],[],[],[],[]]\n",
    "delta_d_R2 = [[],[],[],[],[]]\n",
    "for i in np.arange(len(com_M_load2)):\n",
    "    for j in np.arange(len(com_M_load2[i])):\n",
    "        x_f = com_f_load2[i][j, 0]\n",
    "        y_f = com_f_load2[i][j, 1]\n",
    "        z_f = com_f_load2[i][j, 2]\n",
    "        x_m = com_M_load2[i][j, 0]\n",
    "        y_m = com_M_load2[i][j, 1]\n",
    "        z_m = com_M_load2[i][j, 2]\n",
    "\n",
    "        d2 = (((x_m-x_f)**2)+((y_m-y_f)**2)+((z_m-z_f)**2))**0.5\n",
    "        traj_dis2[i].append(d2)\n",
    "        d = traj_dis2[i][0]\n",
    "        delta_d = d2 - d\n",
    "        delta_d_R2[i].append(delta_d)"
   ]
  },
  {
   "cell_type": "code",
   "execution_count": 18,
   "id": "006793a3",
   "metadata": {},
   "outputs": [],
   "source": [
    "traj_dis3 = [[],[],[],[],[]]\n",
    "delta_d_R3 = [[],[],[],[],[]]\n",
    "for i in np.arange(len(com_M_load3)):\n",
    "    for j in np.arange(len(com_M_load3[i])):\n",
    "        x_f = com_f_load3[i][j, 0]\n",
    "        y_f = com_f_load3[i][j, 1]\n",
    "        z_f = com_f_load3[i][j, 2]\n",
    "        x_m = com_M_load3[i][j, 0]\n",
    "        y_m = com_M_load3[i][j, 1]\n",
    "        z_m = com_M_load3[i][j, 2]\n",
    "\n",
    "        d3 = (((x_m-x_f)**2)+((y_m-y_f)**2)+((z_m-z_f)**2))**0.5\n",
    "        traj_dis3[i].append(d3)\n",
    "        d = traj_dis3[i][0]\n",
    "        delta_d = d3 - d\n",
    "        delta_d_R3[i].append(delta_d)"
   ]
  },
  {
   "cell_type": "code",
   "execution_count": 19,
   "id": "f734db46",
   "metadata": {},
   "outputs": [],
   "source": [
    "traj_dis4 = [[],[],[],[],[]]\n",
    "delta_d_R4 = [[],[],[],[],[]]\n",
    "for i in np.arange(len(com_M_load4)):\n",
    "    for j in np.arange(len(com_M_load4[i])):\n",
    "        x_f = com_f_load4[i][j, 0]\n",
    "        y_f = com_f_load4[i][j, 1]\n",
    "        z_f = com_f_load4[i][j, 2]\n",
    "        x_m = com_M_load4[i][j, 0]\n",
    "        y_m = com_M_load4[i][j, 1]\n",
    "        z_m = com_M_load4[i][j, 2]\n",
    "\n",
    "        d4 = (((x_m-x_f)**2)+((y_m-y_f)**2)+((z_m-z_f)**2))**0.5\n",
    "        traj_dis4[i].append(d4)\n",
    "        d = traj_dis4[i][0]\n",
    "        delta_d = d4 - d\n",
    "        delta_d_R4[i].append(delta_d)"
   ]
  },
  {
   "cell_type": "code",
   "execution_count": 20,
   "id": "aa09d4d1",
   "metadata": {},
   "outputs": [],
   "source": [
    "avg_MSD_list1 = []\n",
    "for i in np.arange(len(traj_dis1[4])):\n",
    "    avg_MSD1 = (((traj_dis1[0][i]-traj_dis1[0][15])**2) \n",
    "    + ((traj_dis1[1][i]-traj_dis1[1][15])**2)\n",
    "    + ((traj_dis1[2][i]-traj_dis1[2][15])**2)\n",
    "    + ((traj_dis1[3][i]-traj_dis1[3][15])**2)\n",
    "    + ((traj_dis1[4][i]-traj_dis1[4][15])**2))/(len(traj_dis1))\n",
    "    avg_MSD_list1.append(avg_MSD1)"
   ]
  },
  {
   "cell_type": "code",
   "execution_count": 21,
   "id": "17f16f9a",
   "metadata": {},
   "outputs": [],
   "source": [
    "avg_MSD_list2 = []\n",
    "for i in np.arange(len(traj_dis2[2])):\n",
    "    avg_MSD2 = (((traj_dis2[0][i]-traj_dis2[0][15])**2) \n",
    "    + ((traj_dis2[1][i]-traj_dis2[1][15])**2)\n",
    "    + ((traj_dis2[2][i]-traj_dis2[2][15])**2)\n",
    "    + ((traj_dis2[3][i]-traj_dis2[3][15])**2)\n",
    "    + ((traj_dis2[4][i]-traj_dis2[4][15])**2))/(len(traj_dis2))\n",
    "    avg_MSD_list2.append(avg_MSD2)"
   ]
  },
  {
   "cell_type": "code",
   "execution_count": 22,
   "id": "4bd9a2f0",
   "metadata": {},
   "outputs": [],
   "source": [
    "avg_MSD_list3 = []\n",
    "for i in np.arange(len(traj_dis3[2])):\n",
    "    avg_MSD3 = (((traj_dis3[0][i]-traj_dis3[0][15])**2) \n",
    "    + ((traj_dis3[1][i]-traj_dis3[1][15])**2)\n",
    "    + ((traj_dis3[2][i]-traj_dis3[2][15])**2)\n",
    "    + ((traj_dis3[3][i]-traj_dis3[3][15])**2)\n",
    "    + ((traj_dis3[4][i]-traj_dis3[4][15])**2))/(len(traj_dis3))\n",
    "    avg_MSD_list3.append(avg_MSD3)"
   ]
  },
  {
   "cell_type": "code",
   "execution_count": 23,
   "id": "b59d6e80",
   "metadata": {},
   "outputs": [],
   "source": [
    "#0: cleft-gate\n",
    "avg_MSD_list4 = []\n",
    "for i in np.arange(len(traj_dis4[2])):\n",
    "    avg_MSD4 = (((traj_dis4[1][i]-traj_dis4[1][15])**2) \n",
    "    + ((traj_dis4[2][i]-traj_dis4[2][15])**2)\n",
    "    + ((traj_dis4[3][i]-traj_dis4[3][15])**2)\n",
    "    + ((traj_dis4[4][i]-traj_dis4[4][15])**2))/(len(traj_dis4)-1)\n",
    "    avg_MSD_list4.append(avg_MSD4)"
   ]
  },
  {
   "cell_type": "code",
   "execution_count": 24,
   "id": "1d9f6627",
   "metadata": {},
   "outputs": [],
   "source": [
    "avg_MSD_list_S_ortho = []\n",
    "for i in np.arange(len(traj_dis2[4])):\n",
    "    avg_MSD_S_ortho = (((traj_dis1[1][i]-traj_dis1[1][15])**2)\n",
    "    + ((traj_dis1[2][i]-traj_dis1[2][15])**2)\n",
    "    + ((traj_dis2[4][i]-traj_dis2[4][15])**2))/(3)\n",
    "    avg_MSD_list_S_ortho.append(avg_MSD_S_ortho)\n",
    "    "
   ]
  },
  {
   "cell_type": "code",
   "execution_count": 25,
   "id": "1616eadf",
   "metadata": {},
   "outputs": [],
   "source": [
    "avg_MSD_list_S_para = []\n",
    "for i in np.arange(len(traj_dis2[2])):\n",
    "    avg_MSD_S_para = (((traj_dis1[0][i]-traj_dis1[0][15])**2) \n",
    "    + ((traj_dis1[3][i]-traj_dis1[3][15])**2)\n",
    "    + ((traj_dis1[4][i]-traj_dis1[4][15])**2)\n",
    "    + ((traj_dis2[0][i]-traj_dis2[0][15])**2) \n",
    "    + ((traj_dis2[1][i]-traj_dis2[1][15])**2)\n",
    "    + ((traj_dis2[2][i]-traj_dis2[2][15])**2)\n",
    "    + ((traj_dis2[3][i]-traj_dis2[3][15])**2))/(7)\n",
    "    avg_MSD_list_S_para.append(avg_MSD_S_para)"
   ]
  },
  {
   "cell_type": "code",
   "execution_count": 26,
   "id": "58c36cdc",
   "metadata": {},
   "outputs": [],
   "source": [
    "avg_MSD_list_T_ortho = []\n",
    "for i in np.arange(len(traj_dis4[4])):\n",
    "    avg_MSD_T_ortho = (((traj_dis3[0][i]-traj_dis3[0][15])**2) \n",
    "    + ((traj_dis3[1][i]-traj_dis3[1][15])**2)\n",
    "    + ((traj_dis3[2][i]-traj_dis3[2][15])**2)\n",
    "    + ((traj_dis3[3][i]-traj_dis3[3][15])**2)\n",
    "    + ((traj_dis3[4][i]-traj_dis3[4][15])**2) \n",
    "    + ((traj_dis4[1][i]-traj_dis4[1][15])**2)\n",
    "    + ((traj_dis4[4][i]-traj_dis4[4][15])**2))/(7)\n",
    "    avg_MSD_list_T_ortho.append(avg_MSD_T_ortho)"
   ]
  },
  {
   "cell_type": "code",
   "execution_count": 27,
   "id": "41cf2074",
   "metadata": {},
   "outputs": [],
   "source": [
    "avg_MSD_list_T_para = []\n",
    "for i in np.arange(len(traj_dis4[2])):\n",
    "    avg_MSD_T_para = (((traj_dis4[2][i]-traj_dis4[2][15])**2)\n",
    "    + ((traj_dis4[3][i]-traj_dis4[3][15])**2))/(2)\n",
    "    avg_MSD_list_T_para.append(avg_MSD_T_para)"
   ]
  },
  {
   "cell_type": "code",
   "execution_count": 28,
   "id": "5317bcbd",
   "metadata": {},
   "outputs": [],
   "source": [
    "array1 = np.array(avg_MSD_list1)\n",
    "array2 = np.array(avg_MSD_list2)\n",
    "#array3 = np.array(avg_MSD_list3)\n",
    "#array4 = np.array(avg_MSD_list4)\n",
    "\n",
    "array1 = (array1)*((10**-7)**2)\n",
    "array2 = (array2)*((10**-7)**2)\n",
    "#array3 = (array3)*((10**-7)**2)\n",
    "#array4 = (array4)*((10**-7)**2)"
   ]
  },
  {
   "cell_type": "code",
   "execution_count": 29,
   "id": "7f02d69a",
   "metadata": {},
   "outputs": [],
   "source": [
    "array_s_ortho = np.array(avg_MSD_list_S_ortho)\n",
    "array_s_para = np.array(avg_MSD_list_S_para)\n",
    "#array_t_ortho = np.array(avg_MSD_list_T_ortho)\n",
    "#array_t_para = np.array(avg_MSD_list_T_para)\n",
    "\n",
    "array_s_ortho = (array_s_ortho)*((10**-7)**2)\n",
    "array_s_para = (array_s_para)*((10**-7)**2)\n",
    "#array_t_ortho = (array_t_ortho)*((10**-7)**2)\n",
    "#array_t_para = (array_t_para)*((10**-7)**2)"
   ]
  },
  {
   "cell_type": "code",
   "execution_count": 32,
   "id": "0ca3ab09",
   "metadata": {},
   "outputs": [
    {
     "data": {
      "text/plain": [
       "<matplotlib.legend.Legend at 0x7f07ab5d7af0>"
      ]
     },
     "execution_count": 32,
     "metadata": {},
     "output_type": "execute_result"
    },
    {
     "data": {
      "image/png": "[encoded data removed]",
      "text/plain": [
       "<Figure size 1000x600 with 1 Axes>"
      ]
     },
     "metadata": {},
     "output_type": "display_data"
    }
   ],
   "source": [
    "import matplotlib.pyplot as plt\n",
    "import numpy as np\n",
    "\n",
    "plt.figure(figsize=(10,6))\n",
    "\n",
    "plt.plot(array_s_ortho, linewidth = 3, label = 'Straight_orthogonal', color='lightseagreen')\n",
    "plt.plot(array_s_para, linewidth = 3, label = 'Straight_parallel', color='darkgreen')\n",
    "#plt.plot(avg_MSD_list, linewidth = 3, label = 'CF_tool')\n",
    "x1 = np.arange(15, len(array_s_ortho))\n",
    "m1, b1 = np.polyfit(x1, array_s_ortho[15:], 1)\n",
    "#\n",
    "x2 = np.arange(15, len(array_s_para))\n",
    "m2, b2 = np.polyfit(x2, array_s_para[15:], 1)\n",
    "#\n",
    "# x3 = np.arange(len(array3))\n",
    "# m3, b3 = np.polyfit(x3, array3, 1)\n",
    "#plt.plot(x1, avg_MSD_list, m*x1 + b, linewidth = 5, linestyle='dashed', color='black')\n",
    "plt.plot(x1, m1*x1 + b1, linewidth = 5, linestyle='dashed', color='lightseagreen')\n",
    "plt.plot(x2, m2*x2 + b2, linewidth = 5, linestyle='dashed', color='darkgreen')\n",
    "#plt.plot(m3*x3 + b3, linewidth = 5, linestyle='dashed', color='green')\n",
    "\n",
    "# 添加灰色色塊\n",
    "plt.axvspan(0, 15, color='gray', alpha=0.5)\n",
    "\n",
    "plt.xticks(fontsize = 20)\n",
    "plt.yticks(fontsize = 20)\n",
    "plt.ylabel(r\"$<(r-r(0))^2>(cm^2)$\", fontsize = 20)\n",
    "plt.xlabel(r\"frames\", fontsize = 20)\n",
    "plt.xlim(left=0)\n",
    "plt.legend(fontsize=15)"
   ]
  },
  {
   "cell_type": "code",
   "execution_count": null,
   "id": "f0b1cbef",
   "metadata": {},
   "outputs": [],
   "source": []
  }
 ],
 "metadata": {
  "kernelspec": {
   "display_name": "Python (mytlab2023)",
   "language": "python",
   "name": "python_mytlab2023"
  },
  "language_info": {
   "codemirror_mode": {
    "name": "ipython",
    "version": 3
   },
   "file_extension": ".py",
   "mimetype": "text/x-python",
   "name": "python",
   "nbconvert_exporter": "python",
   "pygments_lexer": "ipython3",
   "version": "3.10.12"
  }
 },
 "nbformat": 4,
 "nbformat_minor": 5
}
